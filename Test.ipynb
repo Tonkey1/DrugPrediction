{
 "cells": [
  {
   "cell_type": "code",
   "execution_count": 1,
   "metadata": {},
   "outputs": [],
   "source": [
    "import tensorflow as tf\n",
    "import numpy as np\n"
   ]
  },
  {
   "cell_type": "code",
   "execution_count": 23,
   "metadata": {},
   "outputs": [
    {
     "data": {
      "text/plain": [
       "'\\nbatch_size = 100\\nn_batch = len(names_onehots) // batch_size\\n\\ndict_num = len(names_onehots[0])\\nnames_max_length = len(names_onehots[0][0])\\ncol_size = dict_num*names_max_length\\n\\nx = tf.placeholder(tf.int32, [None, col_size])\\ny = tf.placeholder(tf.int32, [None, 2])\\n\\nw = tf.Variable(tf.zeros([col_size, 2]))\\nb = tf.Variable(tf.zeros([2]))\\nprediction = tf.nn.softmax(tf.matmul(x,w)+b)\\n\\nloss = '"
      ]
     },
     "execution_count": 23,
     "metadata": {},
     "output_type": "execute_result"
    }
   ],
   "source": [
    "#load data and prepare data\n",
    "pnames_onehots = np.load('./NR-ER-train/names_onehots.npy')\n",
    "pnames_onehots = pnames_onehots.item()['onehots']\n",
    "#names_lables = \n",
    "\n",
    "names_onehots = []\n",
    "for i in range(len(pnames_onehots)):\n",
    "    names_onehot = []\n",
    "    for j in range(len(pnames_onehots[i])):\n",
    "        names_onehot.extend(pnames_onehots[i][j])         \n",
    "    names_onehots.append(names_onehot)\n",
    "        \n",
    "        \n",
    "batch_size = 100\n",
    "n_batch = len(names_onehots) // batch_size\n",
    "\n",
    "dict_num = len(names_onehots[0])\n",
    "names_max_length = len(names_onehots[0][0])\n",
    "col_size = dict_num*names_max_length\n",
    "\n",
    "x = tf.placeholder(tf.int32, [None, col_size])\n",
    "y = tf.placeholder(tf.int32, [None, 2])\n",
    "\n",
    "w = tf.Variable(tf.zeros([col_size, 2]))\n",
    "b = tf.Variable(tf.zeros([2]))\n",
    "prediction = tf.nn.softmax(tf.matmul(x,w)+b)\n",
    "\n",
    "loss = \n",
    "\n"
   ]
  },
  {
   "cell_type": "code",
   "execution_count": 24,
   "metadata": {},
   "outputs": [
    {
     "name": "stdout",
     "output_type": "stream",
     "text": [
      "7697\n",
      "72\n",
      "398\n",
      "7697\n",
      "28656\n"
     ]
    }
   ],
   "source": [
    "print(len(pnames_onehots))\n",
    "print(len(pnames_onehots[0]))\n",
    "print(len(pnames_onehots[0][0]))\n",
    "#print(pnames_onehots[0][0])\n",
    "\n",
    "print(len(names_onehots))\n",
    "print(len(names_onehots[0]))"
   ]
  },
  {
   "cell_type": "code",
   "execution_count": 16,
   "metadata": {},
   "outputs": [
    {
     "data": {
      "text/plain": [
       "[1, 2, 3]"
      ]
     },
     "execution_count": 16,
     "metadata": {},
     "output_type": "execute_result"
    }
   ],
   "source": [
    "list1 = [1, 2]\n",
    "list2 = [3]\n",
    "list1 = list1 + list2\n",
    "list1"
   ]
  },
  {
   "cell_type": "code",
   "execution_count": null,
   "metadata": {},
   "outputs": [],
   "source": []
  }
 ],
 "metadata": {
  "kernelspec": {
   "display_name": "Python 3",
   "language": "python",
   "name": "python3"
  },
  "language_info": {
   "codemirror_mode": {
    "name": "ipython",
    "version": 3
   },
   "file_extension": ".py",
   "mimetype": "text/x-python",
   "name": "python",
   "nbconvert_exporter": "python",
   "pygments_lexer": "ipython3",
   "version": "3.6.6"
  }
 },
 "nbformat": 4,
 "nbformat_minor": 2
}
